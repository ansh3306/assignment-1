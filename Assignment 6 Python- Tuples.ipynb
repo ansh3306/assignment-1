{
 "cells": [
  {
   "cell_type": "markdown",
   "id": "bb3805c3",
   "metadata": {},
   "source": [
    "<h3>Q1. What is a tuple in Python?"
   ]
  },
  {
   "cell_type": "markdown",
   "id": "d8da1835",
   "metadata": {},
   "source": [
    "Tuple is a built in data type in python that is an ordered, immutable collection of elements."
   ]
  },
  {
   "cell_type": "markdown",
   "id": "a84d1af8",
   "metadata": {},
   "source": [
    "<h3>Q2. How do you create a tuple in Python?"
   ]
  },
  {
   "cell_type": "markdown",
   "id": "b622b25f",
   "metadata": {},
   "source": [
    "Tuple in a python can be created by 3 ways\n",
    "<ol>\n",
    "    <li> using round brackets</li>\n",
    "    <li> using tuple() function</li>\n",
    "    <li> giving multiple values to a variable seperated by comma</li>\n",
    "</ol>"
   ]
  },
  {
   "cell_type": "code",
   "execution_count": 1,
   "id": "8428efb0",
   "metadata": {},
   "outputs": [
    {
     "name": "stdout",
     "output_type": "stream",
     "text": [
      "By method 1 <class 'tuple'>\n",
      "By method 2 <class 'tuple'>\n",
      "By method 3 <class 'tuple'>\n"
     ]
    }
   ],
   "source": [
    "#method 1\n",
    "tuple1 = (1,2,3,4)\n",
    "#method 2\n",
    "tuple2 = tuple([5,6,7,8])\n",
    "#method 3\n",
    "tuple3 = 9,10,11,12\n",
    "print('By method 1', type(tuple1))\n",
    "print('By method 2', type(tuple2))\n",
    "print('By method 3', type(tuple3))"
   ]
  },
  {
   "cell_type": "markdown",
   "id": "0ce736d6",
   "metadata": {},
   "source": [
    "<h3>Q3. What is the difference between a tuple and a list in Python?"
   ]
  },
  {
   "cell_type": "markdown",
   "id": "89ba59e0",
   "metadata": {},
   "source": [
    "Major difference between tuple and list is that tuple are immutable and lists are mutable which means elements of lists can be altered or updated where as it is not possible in tuple"
   ]
  },
  {
   "cell_type": "markdown",
   "id": "7297d5e5",
   "metadata": {},
   "source": [
    "<h3>Q4. Can a tuple be changed in Python?"
   ]
  },
  {
   "cell_type": "markdown",
   "id": "cec41274",
   "metadata": {},
   "source": [
    "Yes a tuple can be changed in using type casting example is given below"
   ]
  },
  {
   "cell_type": "code",
   "execution_count": 2,
   "id": "d730435d",
   "metadata": {},
   "outputs": [
    {
     "name": "stdout",
     "output_type": "stream",
     "text": [
      "<class 'tuple'>\n",
      "<class 'list'>\n"
     ]
    }
   ],
   "source": [
    "sample = (2.34,3,1,3+9j)\n",
    "print(type(sample))\n",
    "sample = list(sample)\n",
    "print(type(sample))"
   ]
  },
  {
   "cell_type": "markdown",
   "id": "c099d30e",
   "metadata": {},
   "source": [
    "<h3>Q5. How do you access elements in a tuple?"
   ]
  },
  {
   "cell_type": "markdown",
   "id": "80e80838",
   "metadata": {},
   "source": [
    "we can access the elements in tuple using indexing and slicing"
   ]
  },
  {
   "cell_type": "markdown",
   "id": "04cca7f5",
   "metadata": {},
   "source": [
    "<h3>Q6. How do you unpack a tuple in Python?"
   ]
  },
  {
   "cell_type": "markdown",
   "id": "fcdaa996",
   "metadata": {},
   "source": [
    "This can be done using a simple assignment statement where the number of variables on the left-hand side matches the number of elements in the tuple. example is given below"
   ]
  },
  {
   "cell_type": "code",
   "execution_count": 3,
   "id": "38b10eea",
   "metadata": {},
   "outputs": [
    {
     "name": "stdout",
     "output_type": "stream",
     "text": [
      "(1, 2, 3, 4)\n",
      "1\n",
      "2\n",
      "3\n",
      "4\n"
     ]
    }
   ],
   "source": [
    "tuplex=(1,2,3,4)\n",
    "a,b,c,d = tuplex\n",
    "print(tuplex)\n",
    "print(a)\n",
    "print(b)\n",
    "print(c)\n",
    "print(d)"
   ]
  },
  {
   "cell_type": "code",
   "execution_count": null,
   "id": "c86bd561",
   "metadata": {},
   "outputs": [],
   "source": []
  }
 ],
 "metadata": {
  "kernelspec": {
   "display_name": "Python 3 (ipykernel)",
   "language": "python",
   "name": "python3"
  },
  "language_info": {
   "codemirror_mode": {
    "name": "ipython",
    "version": 3
   },
   "file_extension": ".py",
   "mimetype": "text/x-python",
   "name": "python",
   "nbconvert_exporter": "python",
   "pygments_lexer": "ipython3",
   "version": "3.11.4"
  }
 },
 "nbformat": 4,
 "nbformat_minor": 5
}
