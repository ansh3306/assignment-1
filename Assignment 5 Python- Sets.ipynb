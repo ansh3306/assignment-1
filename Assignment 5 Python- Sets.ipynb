{
 "cells": [
  {
   "cell_type": "markdown",
   "id": "61eaefdf",
   "metadata": {},
   "source": [
    "<h3>Q1. What is a set in Python?"
   ]
  },
  {
   "cell_type": "markdown",
   "id": "3cc642c7",
   "metadata": {},
   "source": [
    "<p>Set is a built in data type in python which is a collection of unordered unique values, unlike lists and tupples elements can not be dupilicated in sets"
   ]
  },
  {
   "cell_type": "markdown",
   "id": "cffa7c9a",
   "metadata": {},
   "source": [
    "<h3>Q2.How do you create a set in Python?"
   ]
  },
  {
   "cell_type": "markdown",
   "id": "8ead89a8",
   "metadata": {},
   "source": [
    "we can create a set by using either a function a named set() or just by adding values inside curly brackets({})"
   ]
  },
  {
   "cell_type": "code",
   "execution_count": 1,
   "id": "84547ea6",
   "metadata": {},
   "outputs": [
    {
     "name": "stdout",
     "output_type": "stream",
     "text": [
      "<class 'set'>\n",
      "<class 'set'>\n"
     ]
    }
   ],
   "source": [
    "set1 =set({})\n",
    "set2 = {1,2,3}\n",
    "print(type(set1))\n",
    "print(type(set2))"
   ]
  },
  {
   "cell_type": "markdown",
   "id": "7682685d",
   "metadata": {},
   "source": [
    "<h3>Q3. How do you add elements to a set in Python?"
   ]
  },
  {
   "cell_type": "markdown",
   "id": "61c605e9",
   "metadata": {},
   "source": [
    "we can add elements in set using 2 methods <br>\n",
    "<ol>\n",
    "<li>add method (for single element)</li>\n",
    "<li>update method (for multiple elements)</li>\n",
    "</ol>"
   ]
  },
  {
   "cell_type": "code",
   "execution_count": 2,
   "id": "20630bcd",
   "metadata": {},
   "outputs": [
    {
     "name": "stdout",
     "output_type": "stream",
     "text": [
      "{1, 2, 3, 5}\n"
     ]
    }
   ],
   "source": [
    "set3 = {1,2,3}\n",
    "set3.add(5)\n",
    "set3.update([5,2,2])\n",
    "print(set3)"
   ]
  },
  {
   "cell_type": "markdown",
   "id": "ede22743",
   "metadata": {},
   "source": [
    "<h3>Q4. How do you remove elements from a set in Python?"
   ]
  },
  {
   "cell_type": "markdown",
   "id": "3111a49a",
   "metadata": {},
   "source": [
    "we can do it using majorly 3 methods\n",
    "<ol><li>remove()</li>\n",
    "<li>discard()</li>\n",
    "<li>pop() </li>\n",
    "</ol>"
   ]
  },
  {
   "cell_type": "markdown",
   "id": "20056683",
   "metadata": {},
   "source": [
    "<h3>Q5. How do you get the length of a set in Python?"
   ]
  },
  {
   "cell_type": "code",
   "execution_count": 3,
   "id": "51caed62",
   "metadata": {},
   "outputs": [
    {
     "name": "stdout",
     "output_type": "stream",
     "text": [
      "5\n"
     ]
    }
   ],
   "source": [
    "set4 = {1,2,3,4,5}\n",
    "print(len(set4))"
   ]
  },
  {
   "cell_type": "code",
   "execution_count": null,
   "id": "653054a8",
   "metadata": {},
   "outputs": [],
   "source": []
  }
 ],
 "metadata": {
  "kernelspec": {
   "display_name": "Python 3 (ipykernel)",
   "language": "python",
   "name": "python3"
  },
  "language_info": {
   "codemirror_mode": {
    "name": "ipython",
    "version": 3
   },
   "file_extension": ".py",
   "mimetype": "text/x-python",
   "name": "python",
   "nbconvert_exporter": "python",
   "pygments_lexer": "ipython3",
   "version": "3.11.4"
  }
 },
 "nbformat": 4,
 "nbformat_minor": 5
}
