{
 "cells": [
  {
   "cell_type": "markdown",
   "id": "7a0a9363",
   "metadata": {},
   "source": [
    "<h3>Q1. Create an empty list."
   ]
  },
  {
   "cell_type": "code",
   "execution_count": 1,
   "id": "fd679089",
   "metadata": {},
   "outputs": [],
   "source": [
    "list1 = []"
   ]
  },
  {
   "cell_type": "markdown",
   "id": "05e7e083",
   "metadata": {},
   "source": [
    "<h3>Q2. Create a list and add an element to the end of this list."
   ]
  },
  {
   "cell_type": "code",
   "execution_count": 5,
   "id": "d301a296",
   "metadata": {},
   "outputs": [
    {
     "name": "stdout",
     "output_type": "stream",
     "text": [
      "before adding elements [1, 2, 3, 4, 5]\n",
      "after adding single elements [1, 2, 3, 4, 5, 100]\n",
      "after adding multiple elements [1, 2, 3, 4, 5, 100, 10, 11, 12, 13]\n"
     ]
    }
   ],
   "source": [
    "list2 = [1,2,3,4,5]\n",
    "print('before adding elements:',list2)\n",
    "list2.append(100)\n",
    "print('after adding single elements:',list2)\n",
    "list2.extend([10,11,12,13])\n",
    "print('after adding multiple elements:',list2)"
   ]
  },
  {
   "cell_type": "markdown",
   "id": "b398defe",
   "metadata": {},
   "source": [
    "<h3>Q3. For the above created list print the last element."
   ]
  },
  {
   "cell_type": "code",
   "execution_count": 6,
   "id": "47dc5170",
   "metadata": {},
   "outputs": [
    {
     "name": "stdout",
     "output_type": "stream",
     "text": [
      "13\n"
     ]
    }
   ],
   "source": [
    "print(list2[-1])"
   ]
  },
  {
   "cell_type": "markdown",
   "id": "7d00fc71",
   "metadata": {},
   "source": [
    "<h3>Q4. Reverse the above created list."
   ]
  },
  {
   "cell_type": "code",
   "execution_count": 9,
   "id": "2115e7cb",
   "metadata": {},
   "outputs": [
    {
     "name": "stdout",
     "output_type": "stream",
     "text": [
      "[13, 12, 11, 10, 100, 5, 4, 3, 2, 1]\n"
     ]
    }
   ],
   "source": [
    "print(list2[::-1])"
   ]
  },
  {
   "cell_type": "markdown",
   "id": "2c2222c2",
   "metadata": {},
   "source": [
    "<h3>Q5. Sort the above created list."
   ]
  },
  {
   "cell_type": "code",
   "execution_count": 13,
   "id": "4c7b90cc",
   "metadata": {},
   "outputs": [
    {
     "name": "stdout",
     "output_type": "stream",
     "text": [
      "[1, 2, 3, 4, 5, 10, 11, 12, 13, 100]\n"
     ]
    }
   ],
   "source": [
    "print(sorted(list2))"
   ]
  },
  {
   "cell_type": "markdown",
   "id": "a65c37d2",
   "metadata": {},
   "source": [
    "<h3>Q6. Create a list of your top three favorite movies, then print the second movie title."
   ]
  },
  {
   "cell_type": "code",
   "execution_count": 15,
   "id": "a3ddd409",
   "metadata": {},
   "outputs": [
    {
     "name": "stdout",
     "output_type": "stream",
     "text": [
      "Forrest Gump\n"
     ]
    }
   ],
   "source": [
    "fav_movies = ['3 Idiots','Forrest Gump', 'Jatt and Juliet']\n",
    "print(fav_movies[1])"
   ]
  },
  {
   "cell_type": "markdown",
   "id": "e9f78211",
   "metadata": {},
   "source": [
    "<h3>Q7. Create a list of your favorite animals, then add a new animal to the list and print the updated list."
   ]
  },
  {
   "cell_type": "code",
   "execution_count": 16,
   "id": "92588139",
   "metadata": {},
   "outputs": [
    {
     "name": "stdout",
     "output_type": "stream",
     "text": [
      "['lion', 'tiger', 'dog']\n"
     ]
    }
   ],
   "source": [
    "fav_animals = ['lion','tiger']\n",
    "fav_animals.append('dog')\n",
    "print(fav_animals)"
   ]
  },
  {
   "cell_type": "markdown",
   "id": "063c1857",
   "metadata": {},
   "source": [
    "<h3>Q8. Create a list of your favorite cities, then use the index() method to find the position of a specific city\n",
    "on the list and print it."
   ]
  },
  {
   "cell_type": "code",
   "execution_count": 19,
   "id": "3da410a8",
   "metadata": {},
   "outputs": [
    {
     "name": "stdout",
     "output_type": "stream",
     "text": [
      "0\n"
     ]
    }
   ],
   "source": [
    "fav_cities = ['chandigarh','indore','solan']\n",
    "print(fav_cities.index('chandigarh'))"
   ]
  },
  {
   "cell_type": "code",
   "execution_count": null,
   "id": "6286c897",
   "metadata": {},
   "outputs": [],
   "source": []
  }
 ],
 "metadata": {
  "kernelspec": {
   "display_name": "Python 3 (ipykernel)",
   "language": "python",
   "name": "python3"
  },
  "language_info": {
   "codemirror_mode": {
    "name": "ipython",
    "version": 3
   },
   "file_extension": ".py",
   "mimetype": "text/x-python",
   "name": "python",
   "nbconvert_exporter": "python",
   "pygments_lexer": "ipython3",
   "version": "3.11.4"
  }
 },
 "nbformat": 4,
 "nbformat_minor": 5
}
