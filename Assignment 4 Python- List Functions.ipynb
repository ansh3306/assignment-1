{
 "cells": [
  {
   "cell_type": "markdown",
   "id": "c08b7ce4",
   "metadata": {},
   "source": [
    "<h3>Q1. What is the syntax for adding an element to a list in Python?"
   ]
  },
  {
   "cell_type": "markdown",
   "id": "07c13e9c",
   "metadata": {},
   "source": [
    "<p>listname.append('element')"
   ]
  },
  {
   "cell_type": "markdown",
   "id": "6e44518e",
   "metadata": {},
   "source": [
    "<h3>Q2. What is the difference between remove() and pop() functions in Python?"
   ]
  },
  {
   "cell_type": "markdown",
   "id": "49ea670b",
   "metadata": {},
   "source": [
    "remove() is used to remove a specific value by value matching.\n",
    "pop() is used to remove an element at a specific index and optionally retrieve its value."
   ]
  },
  {
   "cell_type": "markdown",
   "id": "af3055cc",
   "metadata": {},
   "source": [
    "<h3>Q3. Write a Python code to sort a list in descending order."
   ]
  },
  {
   "cell_type": "code",
   "execution_count": 2,
   "id": "6f38aef8",
   "metadata": {},
   "outputs": [
    {
     "name": "stdout",
     "output_type": "stream",
     "text": [
      "[434, 213, 34, 34, 5, 5, 5, 4, 2, 2, 2, 1]\n"
     ]
    }
   ],
   "source": [
    "list1 = [1,34,2,4,5,2,5,5,2,213,434,34]\n",
    "print(sorted(list1,reverse=True))"
   ]
  },
  {
   "cell_type": "markdown",
   "id": "7f9a57be",
   "metadata": {},
   "source": [
    "<h3>Q4. Write a Python code to count the number of occurrences of an element in a list."
   ]
  },
  {
   "cell_type": "code",
   "execution_count": 3,
   "id": "2993e2c6",
   "metadata": {},
   "outputs": [
    {
     "name": "stdout",
     "output_type": "stream",
     "text": [
      "3\n"
     ]
    }
   ],
   "source": [
    "list1 = [1,34,2,4,5,2,5,5,2,213,434,34]\n",
    "print(list1.count(2))"
   ]
  },
  {
   "cell_type": "markdown",
   "id": "23319192",
   "metadata": {},
   "source": [
    "<h3>Q5. Write a Python code to reverse a list."
   ]
  },
  {
   "cell_type": "code",
   "execution_count": 6,
   "id": "ebadfe55",
   "metadata": {},
   "outputs": [
    {
     "name": "stdout",
     "output_type": "stream",
     "text": [
      "[(2+3j), 3, 2, 'python', 'hello', 3]\n"
     ]
    }
   ],
   "source": [
    "list2 = [3,'hello','python',2,3,2+3j]\n",
    "print(list2[::-1])"
   ]
  },
  {
   "cell_type": "code",
   "execution_count": null,
   "id": "489f0166",
   "metadata": {},
   "outputs": [],
   "source": []
  }
 ],
 "metadata": {
  "kernelspec": {
   "display_name": "Python 3 (ipykernel)",
   "language": "python",
   "name": "python3"
  },
  "language_info": {
   "codemirror_mode": {
    "name": "ipython",
    "version": 3
   },
   "file_extension": ".py",
   "mimetype": "text/x-python",
   "name": "python",
   "nbconvert_exporter": "python",
   "pygments_lexer": "ipython3",
   "version": "3.11.4"
  }
 },
 "nbformat": 4,
 "nbformat_minor": 5
}
