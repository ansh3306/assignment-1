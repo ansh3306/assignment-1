{
 "cells": [
  {
   "cell_type": "markdown",
   "id": "13f776fe",
   "metadata": {},
   "source": [
    "<h3>Q1. Write all the conventions being followed while declaring a variable.</h3?"
   ]
  },
  {
   "cell_type": "markdown",
   "id": "f6c40ae8",
   "metadata": {},
   "source": [
    "<ul>\n",
    "    <li>Variable name is case sensetive</li>\n",
    "    <li>it should start only with a letter or underscore but can contain letters as well as numbers</li>\n",
    "    <li>reserved words(eg: if, else, and, while etc) should not be used</li>\n",
    "    <li>single character naming or ambigious naming of variable should be avoided</li>\n",
    "    <li>Variable name should be meaningful</li>\n",
    "</ul>"
   ]
  },
  {
   "cell_type": "markdown",
   "id": "20406cce",
   "metadata": {},
   "source": [
    "<h3>Q2. What will happen if we declare a restricted keyword as a variable?</h3>"
   ]
  },
  {
   "cell_type": "markdown",
   "id": "831d099a",
   "metadata": {},
   "source": [
    "<p> in that case we will get a syntex error as restricted keywords holds a specific meaning in python and can not be used to name a variable</p>"
   ]
  },
  {
   "cell_type": "markdown",
   "id": "446df699",
   "metadata": {},
   "source": [
    "<h3>Q3. Can we actually declare a string as a variable name?"
   ]
  },
  {
   "cell_type": "code",
   "execution_count": 1,
   "id": "9c373ac9",
   "metadata": {},
   "outputs": [
    {
     "name": "stdout",
     "output_type": "stream",
     "text": [
      "example\n",
      "variable_name\n"
     ]
    }
   ],
   "source": [
    "#Yes, you can use a string as a variable name in Python\n",
    "\n",
    "example = \"variable_name\"\n",
    "variable_name = \"yes it worked!!\"\n",
    "print(\"example\")\n",
    "print(\"variable_name\")"
   ]
  },
  {
   "cell_type": "markdown",
   "id": "813e64d9",
   "metadata": {},
   "source": [
    "<h3>Q4. Is it possible for us to declare “_” as a variable? If so, then write an example of it."
   ]
  },
  {
   "cell_type": "code",
   "execution_count": 4,
   "id": "b82ad758",
   "metadata": {},
   "outputs": [
    {
     "name": "stdout",
     "output_type": "stream",
     "text": [
      "\"_\" is a variable name\n"
     ]
    }
   ],
   "source": [
    "#yes\n",
    "_='\"_\" is a variable name'\n",
    "print(_)"
   ]
  },
  {
   "cell_type": "markdown",
   "id": "ede0af21",
   "metadata": {},
   "source": [
    "<h3>Q5. Using an example, explain how the variables in python are dynamic in nature."
   ]
  },
  {
   "cell_type": "code",
   "execution_count": 9,
   "id": "02765039",
   "metadata": {},
   "outputs": [
    {
     "name": "stdout",
     "output_type": "stream",
     "text": [
      "this is the first value <class 'str'>\n",
      "(2+3j) <class 'complex'>\n"
     ]
    }
   ],
   "source": [
    "variable = 'this is the first value'\n",
    "print(variable,type(variable))\n",
    "variable = 2+3j\n",
    "print(variable,type(variable))"
   ]
  },
  {
   "cell_type": "code",
   "execution_count": null,
   "id": "2ac83e9e",
   "metadata": {},
   "outputs": [],
   "source": []
  },
  {
   "cell_type": "code",
   "execution_count": null,
   "id": "616bdab9",
   "metadata": {},
   "outputs": [],
   "source": []
  }
 ],
 "metadata": {
  "kernelspec": {
   "display_name": "Python 3 (ipykernel)",
   "language": "python",
   "name": "python3"
  },
  "language_info": {
   "codemirror_mode": {
    "name": "ipython",
    "version": 3
   },
   "file_extension": ".py",
   "mimetype": "text/x-python",
   "name": "python",
   "nbconvert_exporter": "python",
   "pygments_lexer": "ipython3",
   "version": "3.11.4"
  }
 },
 "nbformat": 4,
 "nbformat_minor": 5
}
