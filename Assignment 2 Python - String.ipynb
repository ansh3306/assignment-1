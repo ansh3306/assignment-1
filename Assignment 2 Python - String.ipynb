{
 "cells": [
  {
   "cell_type": "markdown",
   "id": "5b52e3fb",
   "metadata": {},
   "source": [
    "<h3> Q1 How can we store a s1ngle quote (') as a str1ng 1n a variable?"
   ]
  },
  {
   "cell_type": "markdown",
   "id": "aaacd766",
   "metadata": {},
   "source": [
    "<p> There are 2 ways</>\n",
    "    <ol>\n",
    "    <li>putting it in double quote</li>\n",
    "    <li>using escape sequences</li?\n",
    "    </ol>"
   ]
  },
  {
   "cell_type": "code",
   "execution_count": 4,
   "id": "76f4fc2b",
   "metadata": {},
   "outputs": [
    {
     "name": "stdout",
     "output_type": "stream",
     "text": [
      "by method1 '\n",
      "by method2 '\n"
     ]
    }
   ],
   "source": [
    "#1\n",
    "a = \"'\"\n",
    "print(\"by method1\",a)\n",
    "b = '\\''\n",
    "print(\"by method2\",b)"
   ]
  },
  {
   "cell_type": "markdown",
   "id": "12355853",
   "metadata": {},
   "source": [
    "<h3>Q2 Refer the below variable: <br>\n",
    "x = 'a' <br>\n",
    "Here, is x a character type or string type variable? Support your answer with an explaination."
   ]
  },
  {
   "cell_type": "markdown",
   "id": "64bc155b",
   "metadata": {},
   "source": [
    "<p>In the variable assignment x = 'a', the variable x is a string type variable. The value assigned to it, 'a', is enclosed in single quotes. In Python, when you enclose a sequence of characters in single or double quotes, it's treated as a string, even if the sequence consists of just one character."
   ]
  },
  {
   "cell_type": "code",
   "execution_count": 7,
   "id": "fea23192",
   "metadata": {},
   "outputs": [
    {
     "name": "stdout",
     "output_type": "stream",
     "text": [
      "<class 'str'>\n"
     ]
    }
   ],
   "source": [
    "x= 'a'\n",
    "print(type(x))"
   ]
  },
  {
   "cell_type": "markdown",
   "id": "a6a399b9",
   "metadata": {},
   "source": [
    "<h3>Q3 Apply the following functions on this variable: 'Welcome to Python foundation course' <br>\n",
    "1)find() <br>\n",
    "2)count() <br>\n",
    "3)len() <br>\n",
    "4)Concatenation <br>\n",
    "Note: You can use your choice of parameters But make sure it is correct."
   ]
  },
  {
   "cell_type": "code",
   "execution_count": 16,
   "id": "7b904964",
   "metadata": {},
   "outputs": [
    {
     "name": "stdout",
     "output_type": "stream",
     "text": [
      "1: 11\n",
      "2: 6\n",
      "3: 35\n",
      "4: Welcome to Python foundation cource where you will learn python\n"
     ]
    }
   ],
   "source": [
    "string = 'Welcome to Python foundation cource'\n",
    "print(\"1:\", string.find(\"P\"))\n",
    "print(\"2:\", string.count('o'))\n",
    "print(\"3:\", len(string))\n",
    "print(\"4:\", string + \" where you will learn python\")"
   ]
  },
  {
   "cell_type": "markdown",
   "id": "488070ae",
   "metadata": {},
   "source": [
    "<h3>Q4 For the variable: word = 'PanaJi@12256' <br>\n",
    "Calculate the following: <br>\n",
    "(a) Total number of alphabets in lowercase <br>\n",
    "(b) Total number of alphabets in uppercase <br>\n",
    "(c) Total number of numerical in string"
   ]
  },
  {
   "cell_type": "code",
   "execution_count": 18,
   "id": "ebbd9f00",
   "metadata": {},
   "outputs": [
    {
     "name": "stdout",
     "output_type": "stream",
     "text": [
      "Total lowercase alphabets: 4\n",
      "Total uppercase alphabets: 2\n",
      "Total numerical characters: 5\n"
     ]
    }
   ],
   "source": [
    "word = 'PanaJi@12256'\n",
    "\n",
    "\n",
    "lowercase_count = 0\n",
    "uppercase_count = 0\n",
    "numeric_count = 0\n",
    "\n",
    "for char in word:\n",
    "    if char.islower():\n",
    "        lowercase_count += 1\n",
    "    elif char.isupper():\n",
    "        uppercase_count += 1\n",
    "    elif char.isdigit():\n",
    "        numeric_count += 1\n",
    "\n",
    "print(\"Total lowercase alphabets:\", lowercase_count)\n",
    "print(\"Total uppercase alphabets:\", uppercase_count)\n",
    "print(\"Total numerical characters:\", numeric_count)\n"
   ]
  },
  {
   "cell_type": "markdown",
   "id": "71070482",
   "metadata": {},
   "source": [
    "<h3> Q5 Write a code to store a numerical value inside a variable then convert it into string."
   ]
  },
  {
   "cell_type": "code",
   "execution_count": 23,
   "id": "b6b7eb34",
   "metadata": {},
   "outputs": [
    {
     "name": "stdout",
     "output_type": "stream",
     "text": [
      "before conversion: <class 'int'>\n",
      "after conversion: <class 'str'>\n"
     ]
    }
   ],
   "source": [
    "variable = 20\n",
    "print('before conversion:',type(variable))\n",
    "variable = str(variable)\n",
    "print('after conversion:',type(variable))"
   ]
  },
  {
   "cell_type": "code",
   "execution_count": null,
   "id": "7ed6314d",
   "metadata": {},
   "outputs": [],
   "source": []
  }
 ],
 "metadata": {
  "kernelspec": {
   "display_name": "Python 3 (ipykernel)",
   "language": "python",
   "name": "python3"
  },
  "language_info": {
   "codemirror_mode": {
    "name": "ipython",
    "version": 3
   },
   "file_extension": ".py",
   "mimetype": "text/x-python",
   "name": "python",
   "nbconvert_exporter": "python",
   "pygments_lexer": "ipython3",
   "version": "3.11.4"
  }
 },
 "nbformat": 4,
 "nbformat_minor": 5
}
